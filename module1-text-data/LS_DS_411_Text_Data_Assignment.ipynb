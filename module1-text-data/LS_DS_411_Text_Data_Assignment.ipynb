{
 "cells": [
  {
   "cell_type": "markdown",
   "metadata": {},
   "source": [
    "<img align=\"left\" src=\"https://lever-client-logos.s3.amazonaws.com/864372b1-534c-480e-acd5-9711f850815c-1524247202159.png\" width=200>\n",
    "<br></br>\n",
    "<br></br>\n",
    "\n",
    "# Natural Language Processing (NLP)\n",
    "## *Data Science Unit 4 Sprint 1 Assignment 1*\n",
    "\n",
    "Your goal in this assignment: find the attributes of the best & worst coffee shops in the dataset. The text is fairly raw: dates in the review, extra words in the `star_rating` column, etc. You'll probably want to clean that stuff up for a better analysis. \n",
    "\n",
    "Analyze the corpus of text using text visualizations of token frequency. Try cleaning the data as much as possible. Try the following techniques: \n",
    "- Lemmatization\n",
    "- Custom stopword removal\n",
    "\n",
    "Keep in mind the attributes of good tokens. Once you have a solid baseline, layer in the star rating in your visualization(s). Key part of this assignment - produce a write-up of the attributes of the best and worst coffee shops. Based on your analysis, what makes the best the best and the worst the worst. Use graphs and numbesr from your analysis to support your conclusions. There should be plenty of markdown cells! :coffee:"
   ]
  },
  {
   "cell_type": "code",
   "execution_count": 5,
   "metadata": {},
   "outputs": [
    {
     "data": {
      "image/jpeg": "[encoded data removed]",
      "text/html": [
       "\n",
       "        <iframe\n",
       "            width=\"400\"\n",
       "            height=\"300\"\n",
       "            src=\"https://www.youtube.com/embed/Jml7NVYm8cs\"\n",
       "            frameborder=\"0\"\n",
       "            allowfullscreen\n",
       "        ></iframe>\n",
       "        "
      ],
      "text/plain": [
       "<IPython.lib.display.YouTubeVideo at 0x1243479e8>"
      ]
     },
     "execution_count": 5,
     "metadata": {},
     "output_type": "execute_result"
    }
   ],
   "source": [
    "from IPython.display import YouTubeVideo\n",
    "\n",
    "YouTubeVideo('Jml7NVYm8cs')"
   ]
  },
  {
   "cell_type": "code",
   "execution_count": 2,
   "metadata": {},
   "outputs": [
    {
     "data": {
      "text/plain": [
       "'/Users/jonathansokoll/Documents/lambda/DS-Unit-4-Sprint-1-NLP/module1-text-data'"
      ]
     },
     "execution_count": 2,
     "metadata": {},
     "output_type": "execute_result"
    }
   ],
   "source": [
    "%pwd"
   ]
  },
  {
   "cell_type": "code",
   "execution_count": 2,
   "metadata": {},
   "outputs": [
    {
     "data": {
      "text/html": [
       "<div>\n",
       "<style scoped>\n",
       "    .dataframe tbody tr th:only-of-type {\n",
       "        vertical-align: middle;\n",
       "    }\n",
       "\n",
       "    .dataframe tbody tr th {\n",
       "        vertical-align: top;\n",
       "    }\n",
       "\n",
       "    .dataframe thead th {\n",
       "        text-align: right;\n",
       "    }\n",
       "</style>\n",
       "<table border=\"1\" class=\"dataframe\">\n",
       "  <thead>\n",
       "    <tr style=\"text-align: right;\">\n",
       "      <th></th>\n",
       "      <th>coffee_shop_name</th>\n",
       "      <th>full_review_text</th>\n",
       "      <th>star_rating</th>\n",
       "    </tr>\n",
       "  </thead>\n",
       "  <tbody>\n",
       "    <tr>\n",
       "      <th>0</th>\n",
       "      <td>The Factory - Cafe With a Soul</td>\n",
       "      <td>11/25/2016 1 check-in Love love loved the atm...</td>\n",
       "      <td>5.0 star rating</td>\n",
       "    </tr>\n",
       "    <tr>\n",
       "      <th>1</th>\n",
       "      <td>The Factory - Cafe With a Soul</td>\n",
       "      <td>12/2/2016 Listed in Date Night: Austin, Ambia...</td>\n",
       "      <td>4.0 star rating</td>\n",
       "    </tr>\n",
       "    <tr>\n",
       "      <th>2</th>\n",
       "      <td>The Factory - Cafe With a Soul</td>\n",
       "      <td>11/30/2016 1 check-in Listed in Brunch Spots ...</td>\n",
       "      <td>4.0 star rating</td>\n",
       "    </tr>\n",
       "    <tr>\n",
       "      <th>3</th>\n",
       "      <td>The Factory - Cafe With a Soul</td>\n",
       "      <td>11/25/2016 Very cool decor! Good drinks Nice ...</td>\n",
       "      <td>2.0 star rating</td>\n",
       "    </tr>\n",
       "    <tr>\n",
       "      <th>4</th>\n",
       "      <td>The Factory - Cafe With a Soul</td>\n",
       "      <td>12/3/2016 1 check-in They are located within ...</td>\n",
       "      <td>4.0 star rating</td>\n",
       "    </tr>\n",
       "  </tbody>\n",
       "</table>\n",
       "</div>"
      ],
      "text/plain": [
       "                  coffee_shop_name  \\\n",
       "0  The Factory - Cafe With a Soul    \n",
       "1  The Factory - Cafe With a Soul    \n",
       "2  The Factory - Cafe With a Soul    \n",
       "3  The Factory - Cafe With a Soul    \n",
       "4  The Factory - Cafe With a Soul    \n",
       "\n",
       "                                    full_review_text        star_rating  \n",
       "0   11/25/2016 1 check-in Love love loved the atm...   5.0 star rating   \n",
       "1   12/2/2016 Listed in Date Night: Austin, Ambia...   4.0 star rating   \n",
       "2   11/30/2016 1 check-in Listed in Brunch Spots ...   4.0 star rating   \n",
       "3   11/25/2016 Very cool decor! Good drinks Nice ...   2.0 star rating   \n",
       "4   12/3/2016 1 check-in They are located within ...   4.0 star rating   "
      ]
     },
     "execution_count": 2,
     "metadata": {},
     "output_type": "execute_result"
    }
   ],
   "source": [
    "import pandas as pd\n",
    "\n",
    "url = \"https://raw.githubusercontent.com/LambdaSchool/DS-Unit-4-Sprint-1-NLP/master/module1-text-data/data/yelp_coffeeshop_review_data.csv\"\n",
    "\n",
    "shops = pd.read_csv(url)\n",
    "shops.head()"
   ]
  },
  {
   "cell_type": "code",
   "execution_count": 3,
   "metadata": {},
   "outputs": [
    {
     "data": {
      "text/plain": [
       " 10/16/2016 amazing coffee! waffle banana and nutella is incredible! beautiful place! the service is great! everything is just perfect!                                                                                                                                                                                                                                                                                                                                                                                                                                                                                                                                                                                                                                                                                                                                                                                                                                                                                                                                                                                                                                                                                                                                                                                                                                                                                                                                                                                                                                                                                                                                                                                                                                                             0.000525\n",
       " 11/17/2016 1 check-in listed in 2016 - the third time is a charm! the factory has a+ decor and a very innovative interactionless (tablet) ordering system. this allows you to look up what to get without feeling pressured by a barista staring at you waiting for you to order. the eclectic selection of tables, couches, and swings (?!) inside with a small kiddy corner appeal to many different types of tastes. this is seriously a cool place to hang out.  however, when it comes to the coffee and food, it's rather not cheap. the waffles range from $4-$8, and coffee is between $3.50 and $5. the quality of the coffee is not yet up to par with other coffee mainstays in austin, so i would probably not choose to come here just for coffee. however, it is a cute date place and i know that m and i will probably come back to chat, people-watch, or read books.                                                                                                                                                                                                                                                                                                                                                                                                                                                                                                                                                                                                                                                                                                                                                                                                                                                                                                             0.000525\n",
       " 10/22/2016 1 check-in listed in americano this is not your average cute study spot cafe.  location/ atmosphere: + easy parking at the lot + cute and classy interior decor! + plenty of seats available (couches, swings, high chairs, etc) + games like chess & tic tac toe available - no sign of outlets/ charging port on the walls - no wifi available - not a study cafe unless you have all your papers printed out and don't need the internet  service: o you order by yourself using an ipad up at the counter. + there are 3 ipads available making lines go by faster. + you can request them to text you upon your order being ready + when i told one of the baristas that the fork bin was empty, he kindly brought it over to our table along with a couple of knives! - there was no option to make drinks half sweetened/ less ice on the ipad screen :\"(  food/ prices: + highly recommend the matcha latte (it was thick and made to perfection!) + the chicken and waffle was well seasoned! + aesthetically super cute - i didn't enjoy the milk tea as much (it was way too sweet for me and had a super unique taste to it.) - snack size portions, $$ price tag of a meal - the sides of corn/ coleslaw came out in a tiny cup - it was ~$7 for a cup of milk tea and ~$8 for the snack sized chicken and waffle - we were still pretty hungry after and even considered driving over to tarka for some real food.  i'd come here again to socialize (when i'm less busy with schoolwork) but really only for the matcha latte & the classy atmosphere. if you haven't had lunch/ dinner, don't come here to fill your tummy up :\"o matcha latte, chicken & waffle, nutella waffle, and hot milk tea matcha latte, chicken & waffle, nutella waffle, and hot milk tea     0.000525\n",
       " 10/9/2016 1 check-in i am very impressed with this place. the food portions were so perfect and not mention delicious! the waffle architects (staff) were all so accommodating and nice. we were able to talk to one of the owners for a bit and he was very helpful with his recommendations and accurate. i highly recommend this place. i will definitely be coming back when i am in austin again. nutella and banana waffles. chicken and waffles, olive oil pound cake, and milk tea! yummy.                                                                                                                                                                                                                                                                                                                                                                                                                                                                                                                                                                                                                                                                                                                                                                                                                                                                                                                                                                                                                                                                                                                                                                                                                                                                                                 0.000525\n",
       " 11/9/2016 really cute and heavily hipster atmosphere. we tried this place late night on saturday and enjoyed the first visit. you will want to try their swing for sure. seating space is somewhat limited and no wifi is available, so be aware. this is more like a place for you to enjoy its atmosphere. drinks were good, though make sure you have enough in your bank account because their drinks are probably not for broke college students. that swing!                                                                                                                                                                                                                                                                                                                                                                                                                                                                                                                                                                                                                                                                                                                                                                                                                                                                                                                                                                                                                                                                                                                                                                                                                                                                                                                                 0.000525\n",
       "                                                                                                                                                                                                                                                                                                                                                                                                                                                                                                                                                                                                                                                                                                                                                                                                                                                                                                                                                                                                                                                                                                                                                                                                                                                                                                                                                                                                                                                                                                                                                                                                                                                                                                                                                                                                      ...   \n",
       " 7/25/2014 1 check-in i have passed by a few times and it finally dawned on me this coffee shop has food!  it was a perfect quick lunch.  clean and bigger inside than it looks.  friendly and courteous staff.  my order was up pretty quick.  chips with the spicy salsa were good- tastes homemade which is nice :)  chicken salad on arugula had a nice flavor but i would have liked it to be a bit colder and have a few added veggies or something .  wish they had more gluten free items :)  end of the day a cute yummy lunch spot that appears to have a full bar! yummy chips and salsa- chicken salad in arugula!                                                                                                                                                                                                                                                                                                                                                                                                                                                                                                                                                                                                                                                                                                                                                                                                                                                                                                                                                                                                                                                                                                                                                                      0.000131\n",
       " 2/29/2016 great vibe, good coffee, great prices on the wines by the bottle as well.  this location opens very late so if you're trying to get some work done late at night, this is the place to be. wifi is also very fast and reliable.  parking has always been a hassle though. it's in the same complex as the alamo drafthouse so it does take a while to find a spot.                                                                                                                                                                                                                                                                                                                                                                                                                                                                                                                                                                                                                                                                                                                                                                                                                                                                                                                                                                                                                                                                                                                                                                                                                                                                                                                                                                                                                       0.000131\n",
       " 4/15/2015 6 check-ins i love, love, love the steeping room. it's become my go-to for a quick, light dinner before going to art class. grab a nice pot of tea or a tisane if i'm not wanting caffeine. the food is always great. the exact things you want to eat with tea. i recently had the tea service that came with napa rolls, edamame, and a macha-dusted brownie. holy cow! the rolls were huge, edamame tasty and i ended up taking home the brownie and making my husband's night.  i always get a ginger scone (if i don't have dessert) with clotted cream. perfection!  the people who work here are great and very helpful. always get a smiling face when i come in and terrific service. this is a perfect spot for ladies to lunch together, a group to enjoy a nice tea service or even someone wanting a little alone time with a relaxing cuppa.                                                                                                                                                                                                                                                                                                                                                                                                                                                                                                                                                                                                                                                                                                                                                                                                                                                                                                                               0.000131\n",
       " 1/17/2016 1 check-in airy, open coffee shop with indoor and outdoor seating. coffee purists that make delicious beautiful coffees. they only offer whole or almond milk (no decaf, no half and half, no 1%, no 2%). friendly, diligent staff that take their craft seriously. highly recommend the avocado toast! i'd like to frequent this place however the 12oz latte for $4.50 and avocado toast for $7 - too pricey for what you get to become a regular. avocado toast on challah bread with avocado, feta and hot spice cinnamon toast - on challah bread vanilla latte with whole milk                                                                                                                                                                                                                                                                                                                                                                                                                                                                                                                                                                                                                                                                                                                                                                                                                                                                                                                                                                                                                                                                                                                                                                                                     0.000131\n",
       " 2/16/2015 i don't get a chance to stop by scott's truck often, as i'm generally in s. austin, and they're not open late.  that said, he's a very skilled barista, and is one of the few in austin with a manual machine, giving him more control over their pulls.  (that said, i was not so impressed with the output from the few manual slayer machines i encountered before leaving sf for austin.)   he definitely know how to use it properly!  mueller park is a nice spot to hang out on a weekend, so definitely stop by the old truck!                                                                                                                                                                                                                                                                                                                                                                                                                                                                                                                                                                                                                                                                                                                                                                                                                                                                                                                                                                                                                                                                                                                                                                                                                                                   0.000131\n",
       "Name: full_review_text, Length: 6915, dtype: float64"
      ]
     },
     "execution_count": 3,
     "metadata": {},
     "output_type": "execute_result"
    }
   ],
   "source": [
    "#put text review in tokens variables\n",
    "shops['full_review_text'] = shops['full_review_text'].apply(lambda x: x.lower())\n",
    "shops['full_review_text'].value_counts(5)\n"
   ]
  },
  {
   "cell_type": "markdown",
   "metadata": {},
   "source": [
    "## How do we want to analyze these coffee shop tokens? \n",
    "\n",
    "- Overall Word / Token Count\n",
    "- View Counts by Rating \n",
    "- *Hint:* a 'bad' coffee shops has a rating betweeen 1 & 3 based on the distribution of ratings. A 'good' coffee shop is a 4 or 5. "
   ]
  },
  {
   "cell_type": "code",
   "execution_count": 4,
   "metadata": {},
   "outputs": [],
   "source": [
    "\"\"\" \n",
    "import \n",
    "\"\"\"\n",
    "#base\n",
    "from collections import Counter\n",
    "import re\n",
    "\n",
    "import pandas as pd\n",
    "\n",
    "#plotting\n",
    "import squarify\n",
    "import matplotlib.pyplot as plt\n",
    "import seaborn as sns\n",
    "\n",
    "#NLP libraries\n",
    "import spacy\n",
    "from spacy.tokenizer import Tokenizer\n",
    "from nltk.stem import PorterStemmer\n",
    "\n",
    "nlp = spacy.load(\"en_core_web_lg\")"
   ]
  },
  {
   "cell_type": "code",
   "execution_count": 5,
   "metadata": {},
   "outputs": [
    {
     "data": {
      "text/html": [
       "<div>\n",
       "<style scoped>\n",
       "    .dataframe tbody tr th:only-of-type {\n",
       "        vertical-align: middle;\n",
       "    }\n",
       "\n",
       "    .dataframe tbody tr th {\n",
       "        vertical-align: top;\n",
       "    }\n",
       "\n",
       "    .dataframe thead th {\n",
       "        text-align: right;\n",
       "    }\n",
       "</style>\n",
       "<table border=\"1\" class=\"dataframe\">\n",
       "  <thead>\n",
       "    <tr style=\"text-align: right;\">\n",
       "      <th></th>\n",
       "      <th>coffee_shop_name</th>\n",
       "      <th>full_review_text</th>\n",
       "      <th>star_rating</th>\n",
       "    </tr>\n",
       "  </thead>\n",
       "  <tbody>\n",
       "    <tr>\n",
       "      <th>0</th>\n",
       "      <td>The Factory - Cafe With a Soul</td>\n",
       "      <td>11/25/2016 1 check-in love love loved the atm...</td>\n",
       "      <td>5.0 star rating</td>\n",
       "    </tr>\n",
       "    <tr>\n",
       "      <th>1</th>\n",
       "      <td>The Factory - Cafe With a Soul</td>\n",
       "      <td>12/2/2016 listed in date night: austin, ambia...</td>\n",
       "      <td>4.0 star rating</td>\n",
       "    </tr>\n",
       "    <tr>\n",
       "      <th>2</th>\n",
       "      <td>The Factory - Cafe With a Soul</td>\n",
       "      <td>11/30/2016 1 check-in listed in brunch spots ...</td>\n",
       "      <td>4.0 star rating</td>\n",
       "    </tr>\n",
       "    <tr>\n",
       "      <th>3</th>\n",
       "      <td>The Factory - Cafe With a Soul</td>\n",
       "      <td>11/25/2016 very cool decor! good drinks nice ...</td>\n",
       "      <td>2.0 star rating</td>\n",
       "    </tr>\n",
       "  </tbody>\n",
       "</table>\n",
       "</div>"
      ],
      "text/plain": [
       "                  coffee_shop_name  \\\n",
       "0  The Factory - Cafe With a Soul    \n",
       "1  The Factory - Cafe With a Soul    \n",
       "2  The Factory - Cafe With a Soul    \n",
       "3  The Factory - Cafe With a Soul    \n",
       "\n",
       "                                    full_review_text        star_rating  \n",
       "0   11/25/2016 1 check-in love love loved the atm...   5.0 star rating   \n",
       "1   12/2/2016 listed in date night: austin, ambia...   4.0 star rating   \n",
       "2   11/30/2016 1 check-in listed in brunch spots ...   4.0 star rating   \n",
       "3   11/25/2016 very cool decor! good drinks nice ...   2.0 star rating   "
      ]
     },
     "execution_count": 5,
     "metadata": {},
     "output_type": "execute_result"
    }
   ],
   "source": [
    "shops.head(4)"
   ]
  },
  {
   "cell_type": "code",
   "execution_count": 6,
   "metadata": {},
   "outputs": [],
   "source": [
    "def tokenize(text):\n",
    "    \"\"\"\n",
    "    Parses a str to a list of semantic units\n",
    "    \n",
    "    args:\n",
    "        text(str): The string that the function will tokenize.\n",
    "    \n",
    "    returns:\n",
    "        list: tokensparsed out by the mechanics of your choice\n",
    "    \"\"\"\n",
    "    tokens = re.sub(r'[^a-zA-Z ^0-9]', '', text)\n",
    "    tokens = tokens.lower().split()\n",
    "    return tokens"
   ]
  },
  {
   "cell_type": "code",
   "execution_count": 7,
   "metadata": {},
   "outputs": [
    {
     "data": {
      "text/html": [
       "<div>\n",
       "<style scoped>\n",
       "    .dataframe tbody tr th:only-of-type {\n",
       "        vertical-align: middle;\n",
       "    }\n",
       "\n",
       "    .dataframe tbody tr th {\n",
       "        vertical-align: top;\n",
       "    }\n",
       "\n",
       "    .dataframe thead th {\n",
       "        text-align: right;\n",
       "    }\n",
       "</style>\n",
       "<table border=\"1\" class=\"dataframe\">\n",
       "  <thead>\n",
       "    <tr style=\"text-align: right;\">\n",
       "      <th></th>\n",
       "      <th>coffee_shop_name</th>\n",
       "      <th>full_review_text</th>\n",
       "      <th>star_rating</th>\n",
       "    </tr>\n",
       "  </thead>\n",
       "  <tbody>\n",
       "    <tr>\n",
       "      <th>0</th>\n",
       "      <td>The Factory - Cafe With a Soul</td>\n",
       "      <td>11/25/2016 1 check-in love love loved the atm...</td>\n",
       "      <td>5.0 star rating</td>\n",
       "    </tr>\n",
       "    <tr>\n",
       "      <th>1</th>\n",
       "      <td>The Factory - Cafe With a Soul</td>\n",
       "      <td>12/2/2016 listed in date night: austin, ambia...</td>\n",
       "      <td>4.0 star rating</td>\n",
       "    </tr>\n",
       "  </tbody>\n",
       "</table>\n",
       "</div>"
      ],
      "text/plain": [
       "                  coffee_shop_name  \\\n",
       "0  The Factory - Cafe With a Soul    \n",
       "1  The Factory - Cafe With a Soul    \n",
       "\n",
       "                                    full_review_text        star_rating  \n",
       "0   11/25/2016 1 check-in love love loved the atm...   5.0 star rating   \n",
       "1   12/2/2016 listed in date night: austin, ambia...   4.0 star rating   "
      ]
     },
     "execution_count": 7,
     "metadata": {},
     "output_type": "execute_result"
    }
   ],
   "source": [
    "shops.head(2)"
   ]
  },
  {
   "cell_type": "code",
   "execution_count": 8,
   "metadata": {},
   "outputs": [
    {
     "data": {
      "text/plain": [
       " 10/16/2016 amazing coffee! waffle banana and nutella is incredible! beautiful place! the service is great! everything is just perfect!                                                                                                                                                                                                                                                                                                                                                                                                                                                                                                                                                                                                                                                                                                                                                                                                                                                                                                                                                                                                                                                                                                                                                                                                                                                                                                                                                                                                                                                                                                                                                                                                                                                                                                                                                                                                  0.000525\n",
       " 11/17/2016 1 check-in listed in 2016 - the third time is a charm! the factory has a+ decor and a very innovative interactionless (tablet) ordering system. this allows you to look up what to get without feeling pressured by a barista staring at you waiting for you to order. the eclectic selection of tables, couches, and swings (?!) inside with a small kiddy corner appeal to many different types of tastes. this is seriously a cool place to hang out.  however, when it comes to the coffee and food, it's rather not cheap. the waffles range from $4-$8, and coffee is between $3.50 and $5. the quality of the coffee is not yet up to par with other coffee mainstays in austin, so i would probably not choose to come here just for coffee. however, it is a cute date place and i know that m and i will probably come back to chat, people-watch, or read books.                                                                                                                                                                                                                                                                                                                                                                                                                                                                                                                                                                                                                                                                                                                                                                                                                                                                                                                                                                                                                                                  0.000525\n",
       " 10/22/2016 1 check-in listed in americano this is not your average cute study spot cafe.  location/ atmosphere: + easy parking at the lot + cute and classy interior decor! + plenty of seats available (couches, swings, high chairs, etc) + games like chess & tic tac toe available - no sign of outlets/ charging port on the walls - no wifi available - not a study cafe unless you have all your papers printed out and don't need the internet  service: o you order by yourself using an ipad up at the counter. + there are 3 ipads available making lines go by faster. + you can request them to text you upon your order being ready + when i told one of the baristas that the fork bin was empty, he kindly brought it over to our table along with a couple of knives! - there was no option to make drinks half sweetened/ less ice on the ipad screen :\"(  food/ prices: + highly recommend the matcha latte (it was thick and made to perfection!) + the chicken and waffle was well seasoned! + aesthetically super cute - i didn't enjoy the milk tea as much (it was way too sweet for me and had a super unique taste to it.) - snack size portions, $$ price tag of a meal - the sides of corn/ coleslaw came out in a tiny cup - it was ~$7 for a cup of milk tea and ~$8 for the snack sized chicken and waffle - we were still pretty hungry after and even considered driving over to tarka for some real food.  i'd come here again to socialize (when i'm less busy with schoolwork) but really only for the matcha latte & the classy atmosphere. if you haven't had lunch/ dinner, don't come here to fill your tummy up :\"o matcha latte, chicken & waffle, nutella waffle, and hot milk tea matcha latte, chicken & waffle, nutella waffle, and hot milk tea                                                                                                                                          0.000525\n",
       " 10/9/2016 1 check-in i am very impressed with this place. the food portions were so perfect and not mention delicious! the waffle architects (staff) were all so accommodating and nice. we were able to talk to one of the owners for a bit and he was very helpful with his recommendations and accurate. i highly recommend this place. i will definitely be coming back when i am in austin again. nutella and banana waffles. chicken and waffles, olive oil pound cake, and milk tea! yummy.                                                                                                                                                                                                                                                                                                                                                                                                                                                                                                                                                                                                                                                                                                                                                                                                                                                                                                                                                                                                                                                                                                                                                                                                                                                                                                                                                                                                                                      0.000525\n",
       " 11/9/2016 really cute and heavily hipster atmosphere. we tried this place late night on saturday and enjoyed the first visit. you will want to try their swing for sure. seating space is somewhat limited and no wifi is available, so be aware. this is more like a place for you to enjoy its atmosphere. drinks were good, though make sure you have enough in your bank account because their drinks are probably not for broke college students. that swing!                                                                                                                                                                                                                                                                                                                                                                                                                                                                                                                                                                                                                                                                                                                                                                                                                                                                                                                                                                                                                                                                                                                                                                                                                                                                                                                                                                                                                                                                      0.000525\n",
       " 11/22/2016 cute, eclectic furniture and lots of things to do! gorgeous seating vignettes, lots of space, classy decor. only thing to watch out for--no wifi...not really a place to do work or study, but great place to chill! my friends and i (6 of us total) found space to play a board game, and had a blast!                                                                                                                                                                                                                                                                                                                                                                                                                                                                                                                                                                                                                                                                                                                                                                                                                                                                                                                                                                                                                                                                                                                                                                                                                                                                                                                                                                                                                                                                                                                                                                                                                     0.000525\n",
       " 10/13/2016 the factory is gonna be my new coffee spot. no words can describe the amazing atmosphere upon walking in. comfortable seating, hip music, great interior finishes and table games. the intuitive ipad ordering system was quite fascinating as well with its ease of use. great service and tastes great! great job!                                                                                                                                                                                                                                                                                                                                                                                                                                                                                                                                                                                                                                                                                                                                                                                                                                                                                                                                                                                                                                                                                                                                                                                                                                                                                                                                                                                                                                                                                                                                                                                                         0.000525\n",
       " 11/2/2016 i was so pleasantly surprised by this place! i only went because i had time to kill and they were the only coffee shop nearby open until 2 am. but i'm so glad i tried it out. it's not your typical austin coffee shop. the quality of the drinks here was top notch, and they offer unique food and drinks. i had the macha latte (i think that's what it was called) and it was fantastic! the people were so friendly, the decor was beautiful, with plenty of comfortable seating (including swings from the ceiling!), and it was just the perfect place to chill with friends. i'll definitely be coming back!                                                                                                                                                                                                                                                                                                                                                                                                                                                                                                                                                                                                                                                                                                                                                                                                                                                                                                                                                                                                                                                                                                                                                                                                                                                                                                         0.000525\n",
       " 11/30/2016 1 check-in listed in brunch spots i loved the eclectic and homey plush decor and who doesn't want to swing and drink their coffee?  i would categorize this as a pricier coffee place but, to me it was worth it.  after thanksgiving nobody wants to make brunch so we headed out in search of chicken and waffles.  there is ample parking in the private lot and  ordering is done through i-pads.  pick a seat and they will call your name when your items are ready.  be patient because some of the coffee drinks take longer than others.  i had the cold brew coffee, chicken and waffles and we shared a pop+art!  the po+art was strawberry; light and fluffy on the outside and gooey sweet filling on the inside.  the chicken and waffles wasn't the standard so expect different, complex and interesting flavors from the accompanying slaw and sauce.  i thoroughly enjoyed it but, the waffle was a bit bland and maybe could have used a bit of honey to spruce it up.  the coffee here is spot on and i hear that their hot chocolate is the bomb but, i will have to wait for the weather to cool off to try that.  a great place to be cozy and chat with your friends, a date or read a book. chicken and waffles pop tart coffee see all photos from carmela s. for the factory - cafe with a soul                                                                                                                                                                                                                                                                                                                                                                                                                                                                                                                                                                                                   0.000525\n",
       " 11/14/2016 honestly, this place is having an identity crisis. not a great place for a date or to meet a friend - very cute decor (props to the designer), but music is a bit all over the place, and for the price i would go somewhere else. not really a family place, at least not for all families since bathrooms have framed art of sexual positions. lights get turned down around 9pm (but they stay open till 2), so if you wanted to stop by to get a bit of reading done, you're out of luck. it is also not a beer/coffee lounge like thunderbird. menu is very limited, and if you were in the mood for a treat, i'd recommend quacks. if they wanted to expand the menu, ipad ordering would have to go.  which is sad since it's very cute, and we need more chill places to hang out in the evenings away from the university area.  matcha was good. i hope the owners will rethink their direction. would i come back? eeh, too many other treats to entice my attention.                                                                                                                                                                                                                                                                                                                                                                                                                                                                                                                                                                                                                                                                                                                                                                                                                                                                                                                                             0.000525\n",
       " 11/21/2016 1 check-in this place is fantastic! ideal place for grabbing a frothy matcha latte and a chicken & waffle. a bit different in the way that you order. definitely a nice hang-out for millenials or anyone who works in the area and is on a lunch break. wifi is within reach but they don't have it themselves.                                                                                                                                                                                                                                                                                                                                                                                                                                                                                                                                                                                                                                                                                                                                                                                                                                                                                                                                                                                                                                                                                                                                                                                                                                                                                                                                                                                                                                                                                                                                                                                                             0.000525\n",
       " 11/20/2016 1 check-in very cute cafe! i think from the moment i stepped in, there really wasn't anything i didn't find cute at the factory. from their decor to their cups, everything was really cute. it's really the perfect place for a catching up with friends or a coffee date.  when you go order, there's really the least amount of interaction ever with the workers. you just pick your order on an ipad and they'll call your order out after for you to pick up at the counter. the whole thing's pretty novel honestly. i got the viva matcha latte and it was so good! perfect amount of sweetness and perfect temperature. i went on a cold night and this cafe is just so cozy, it was such a great combination. they have these swings as well which were pretty fun to sit on honestly.  prices are what i would expect for a cafe like this, not super cheap, but not too pricey. there's no wifi here, so if you want to study, maybe this isn't the right place. but overall, very nice atmosphere! viva matcha latte and cortado                                                                                                                                                                                                                                                                                                                                                                                                                                                                                                                                                                                                                                                                                                                                                                                                                                                                                0.000525\n",
       " 11/16/2016 the greeting of an atmosphere it feels i created. this place speaks to my free spirited soul, with matcha lattes, swings inside that still fit in, pillows, and waffles. this might be the next artist home where computers aren't encouraged by the architecture, but books, talking and chess are. matcha latte with lactose free milk and house book                                                                                                                                                                                                                                                                                                                                                                                                                                                                                                                                                                                                                                                                                                                                                                                                                                                                                                                                                                                                                                                                                                                                                                                                                                                                                                                                                                                                                                                                                                                                                                      0.000525\n",
       " 11/6/2016 really love the atmosphere here! i frequent coffee shops and this one is definitely unique and worth checking out.  pros: great atmosphere friendly staff good hangout/ study environment beautiful lighting tasty drinks  cons: no wifi slightly pricey pretty things love all the details here. it just has good vibes. definitely the perfect cafe atmosphere. see all photos from sierra l. for the factory - cafe with a soul                                                                                                                                                                                                                                                                                                                                                                                                                                                                                                                                                                                                                                                                                                                                                                                                                                                                                                                                                                                                                                                                                                                                                                                                                                                                                                                                                                                                                                                                                            0.000525\n",
       " 11/23/2016 1 check-in my best friend and i came to the factory after seeing it on a couple of best new austin brunch lists. it's super cute and trendy, to the point where it feels kind of out of place in a strip mall. although i loved the interior design and general ambiance of the place, i was a little disappointed with the menu. this is more of a coffee shop than a cafe - their food options are pretty limited. my friend ordered the chicken and waffles and i ordered nutella waffles with strawberries and bananas. for the price i paid, the portions were definitely on the smaller side. i enjoyed my meal still, but it's hard to mess up nutella and fruit, so i wasn't particularly impressed. i would love to come back to study sometime but since they don't have wifi, i don't think it'll be likely.                                                                                                                                                                                                                                                                                                                                                                                                                                                                                                                                                                                                                                                                                                                                                                                                                                                                                                                                                                                                                                                                                                      0.000525\n",
       " 10/29/2016 first time checking this place out first time. pretty swag. nice assortment of drinks. i got the 15 minutes of fame. also got the poptart. delicious!  next time i'll try the marymount monroe. will definitely come back soon.                                                                                                                                                                                                                                                                                                                                                                                                                                                                                                                                                                                                                                                                                                                                                                                                                                                                                                                                                                                                                                                                                                                                                                                                                                                                                                                                                                                                                                                                                                                                                                                                                                                                                              0.000525\n",
       " 11/10/2016 7 check-ins the factory cafe is overall such a beautiful and really cool place to just hang out with friends or work on homework. you'll probably see the people around you taking the time to perfect their aesthetic instagram pictures and snapchat stories (myself included). although the cafe itself doesn't provide wifi, it's within range of other places with wifi so that shouldn't deter you from going! this place looks like it literally came straight off of pinterest! so cute!                                                                                                                                                                                                                                                                                                                                                                                                                                                                                                                                                                                                                                                                                                                                                                                                                                                                                                                                                                                                                                                                                                                                                                                                                                                                                                                                                                                                                             0.000525\n",
       " 11/10/2016 3 check-ins this place has been shown on my social media for days so i finally visited! one of the cutest and artistic looking coffeeshops i have ever visited. you can self order which is nice because you can take your time and look at the pictures to help you decide! i especially liked how pictures were shown so i knew which coffee/tea came out aesthetically  i ordered the famous matcha green latte and i dont usually drink coffee but it went beyond my expectations. they give you a good amount and its creamy and sweet. only downside is no wifi.. so hard to study here. matcha green tea and living la vida mocha matcha green tea latte interior design see all photos from sarah l. for the factory - cafe with a soul                                                                                                                                                                                                                                                                                                                                                                                                                                                                                                                                                                                                                                                                                                                                                                                                                                                                                                                                                                                                                                                                                                                                                                              0.000525\n",
       " 10/9/2016 the cafe is beautiful, the coffee was fantastic and very well presented, and the food was delicious. must try!                                                                                                                                                                                                                                                                                                                                                                                                                                                                                                                                                                                                                                                                                                                                                                                                                                                                                                                                                                                                                                                                                                                                                                                                                                                                                                                                                                                                                                                                                                                                                                                                                                                                                                                                                                                                                0.000525\n",
       " 10/12/2016 1 check-in checked out the factory this past sunday with my husband. we wanted to try their delicious looking waffles and were definitely not disappointed.  husband ordered an iced coffee drink that was delicious, but it wasn't as good as my golden age of milk tea, well worth the 10 minute wait for the tea to steep.  we both ordered the nutella waffle and it was perfect. from the wood plate with the amazing paper liner printed with a famous person and an inspirational quote from them. i wanted just the paper because it was so cute and well done. the waffle is basically half a waffle, spread with nutella and a layer of bananas, then folded in half. while small, it was a perfect amount, the bananas balancing out the sweetness of the nutella. the waffle itself was crisp perfection, providing a crunch to the meal. the menu is very limited: there was the nutella waffle and a fried chicken waffle. i'm hoping they'll eventually serve other waffles, but totally respect their decision to start small.  the space is gorgeous. from the swings to the mural above the bar, everything looks meticulously planned out. and here is where my biggest advice comes: this place is really not for kids. the way the seating is set up is really for larger people and there is definitely no place for high chairs. while there is giant magnetic poetry on one of the columns, a crazy chair outside and a couple of table games, the giant chess set looks risky for grabby kids. if you have a well-behaved child who can handle it, i would think its fine. however, i watched several families come in and either leave or order to go, commenting it wasn't the best space for them. while this doesn't bother me (i love kidless spaces), it might be jarring to someone expecting to have brunch with the family.  i am so excited to become a regular here! great new spot!     0.000525\n",
       " 10/25/2016 tried this new cafe spot on burnet with a friend - unassuming storefront, the decor is quaint af and you have to order from ipads at the counter and then choose a place to sit.  not a brunch spot as we had thought, just a cafe with a couple of food options. the nutella waffles we got were on point - there's also a chicken option.  the cold brew coffee was fantastic and my friend's milk tea turned out great too.  good spot for conversations. only knocking down a star for the limited options. i hope they add more items to the menu! milk tea - humongous!! nutella banana waffles love the illustrations! see all photos from ramya b. for the factory - cafe with a soul                                                                                                                                                                                                                                                                                                                                                                                                                                                                                                                                                                                                                                                                                                                                                                                                                                                                                                                                                                                                                                                                                                                                                                                                                                0.000525\n",
       " 12/1/2016 this place is amazing! no wifi, but that's fine. it's meant to be a place to hang out with friends, socialize or by yourself reading a good book!                                                                                                                                                                                                                                                                                                                                                                                                                                                                                                                                                                                                                                                                                                                                                                                                                                                                                                                                                                                                                                                                                                                                                                                                                                                                                                                                                                                                                                                                                                                                                                                                                                                                                                                                                                             0.000525\n",
       " 11/9/2016 1 check-in listed in in search of fantastic coffee so, i really didn't want to write this review. i didn't want to tell anyone how awesome the factory - cafe with a soul is because i don't want it overrun and super busy with no place to sit like so many other decent coffee shops in austin. i happened to come in here with a friend mid-week and we sat here for several hours, enjoying the peace and quiet, the atmosphere, and the awesome coffee.  this place is a little eclectic - lots of peculiar art, books, games, knick-knacks, and an almost head-scratching drink and food menu. waffles and pop tarts...and beer? and... coffee mojitos? well, it works. whatever is going on here, it works fabulously. they serve stumptown coffee, which as someone from the northwest, i totally appreciate. they also brew coffee correctly. there is not a hint of bitterness or overcooked milk going on here. the ipad ordering screens are mostly cool, (although they need more options for customization) and the million different types of seating, (couches, pillows, swings, big chairs, little chairs, bar seating, regular tables) is both delightful and refreshing. the baristas make foam art - something that i have only seen at houndstooth here in austin. hanging out here was a wonderful experience - this is a five star establishment, the best coffee house i've been to in austin, and i will be back - time and time again. double espresso with tonic water. beautiful macha a beary lovely mocha!                                                                                                                                                                                                                                                                                                                                                                                     0.000525\n",
       " 11/20/2016 this is a tough one for me.  i took my children here as a treat one afternoon and our first impression was good.  i liked the decor and the place has swings and a chess set!  score for the kids! i went to place my order and had to use an ipad.  it was diy-ordering.  i hit the wrong button of course and ended up messing up my order and having to redo the whole thing.  not too thrilled with the ipad idea but i moved on.  i sat down and when our drinks were ready, they called my name to go get them.  they had a tip jar on the counter.  i have an issue with this since i had to place my own order and then go get my own drink.  i'm not sure what they did extra that constitutes a tip?  the milk tea was delicious!  the kids loved their drinks and \"pop tarts.\"  i started glancing at some of the books laying on the table and the first one i picked up was on tattoos and had a few nude people inside.  i pushed that one aside to be sure the kids didn't pick it up.  i went to use the restroom and framed on the hall wall was a picture with the f-word all over it.  hmm, not my idea of tasteful art.  i was glad my children didn't need to use the bathroom.  while my milk tea was good, i wouldn't go back.  it was very expensive for what you get and i'd have to blindfold the children.                                                                                                                                                                                                                                                                                                                                                                                                                                                                                                                                                                                        0.000525\n",
       " 12/2/2016 listed in date night: austin, ambiance in austin beautiful!!!! love the ambiance! instagram-worthy!!!  definitely $$$, so be prepared. this is gonna cost you a pretty penny :) waffle dessert was just decent...nothing to rave about.  but, will probably be back just to be somewhere unique and nice.                                                                                                                                                                                                                                                                                                                                                                                                                                                                                                                                                                                                                                                                                                                                                                                                                                                                                                                                                                                                                                                                                                                                                                                                                                                                                                                                                                                                                                                                                                                                                                                                                     0.000525\n",
       " 10/7/2016 love the factory. good coffee, tasty chicken and waffles and awesome atmosphere. definitely recommend the nutella waffle.                                                                                                                                                                                                                                                                                                                                                                                                                                                                                                                                                                                                                                                                                                                                                                                                                                                                                                                                                                                                                                                                                                                                                                                                                                                                                                                                                                                                                                                                                                                                                                                                                                                                                                                                                                                                     0.000525\n",
       " 12/2/2016 what a fantastic atmosphere. i dropped in to catch up on some work and found a fantastic atmosphere and a great staff. i wish i could work here every day. i had the darling pour-over and olive bread, and camped out near the pop-art fabric fire in the fireplace nook. wallace (owner) and his team were spot-on with service and help. full disclosure: the place is so beautiful on the inside that i instagrammed it - couldn't help it, i claimed it for my own, like dozens of other folks. highly recommended, so get here when you can!                                                                                                                                                                                                                                                                                                                                                                                                                                                                                                                                                                                                                                                                                                                                                                                                                                                                                                                                                                                                                                                                                                                                                                                                                                                                                                                                                                            0.000525\n",
       " 10/30/2016 1 check-in super cute place for lounging and chatting up with a friend. the chicken and waffle was delicious. chicken was cooked to perfection! super moist chicken with fluffy waffle...more of a snack than a meal, so don't go here expecting to be filled with a meal.                                                                                                                                                                                                                                                                                                                                                                                                                                                                                                                                                                                                                                                                                                                                                                                                                                                                                                                                                                                                                                                                                                                                                                                                                                                                                                                                                                                                                                                                                                                                                                                                                                                   0.000525\n",
       " 11/21/2016 this spot is super cute (\"like eating in a pottery barn\"), with drinks that are unique and with a somewhat limited menu. we tried the chicken and waffles, which was surprisingly delicious and our drinks were also tasty. i had the livin la vida mocha and my husband had the pour over. i will definitely return with company, but prices weren't good enough to make this a regular stop in our rotation.                                                                                                                                                                                                                                                                                                                                                                                                                                                                                                                                                                                                                                                                                                                                                                                                                                                                                                                                                                                                                                                                                                                                                                                                                                                                                                                                                                                                                                                                                                               0.000525\n",
       " 11/17/2016 craft coffee drinks, tea, and beer/wine. friendly staff, good music and nice atmosphere complete with with a few rope swings from he ceiling. and let's not forget the amazing waffles!! nice place to chill with friends.                                                                                                                                                                                                                                                                                                                                                                                                                                                                                                                                                                                                                                                                                                                                                                                                                                                                                                                                                                                                                                                                                                                                                                                                                                                                                                                                                                                                                                                                                                                                                                                                                                                                                                   0.000525\n",
       " 12/2/2016 a cafe that doesn't have wifi but makes you order from an ipad. seriously? $2 extra for almond milk?! the latte was already $5 for 12 oz. don't expect to have a lot of vegan customers. there's a serious lack of customer service for the  overpriced food and beverages.  you order from an ipad, and they call out your drink. there is no interaction between the customer and employee, and they still expect a tip? this cafe also advertises that they have games. there are two games, chess and tick tax toe. it is a beautiful cafe, with very cool furnishings. however i wont be going back.                                                                                                                                                                                                                                                                                                                                                                                                                                                                                                                                                                                                                                                                                                                                                                                                                                                                                                                                                                                                                                                                                                                                                                                                                                                                                                                     0.000525\n",
       " 10/25/2016 1 check-in ok, let's try this approach...  pros: music seating decor general ambiance service  cons: ipad ordering (i'm a crotchety old man, kids) limited coffee menu, or menu in general relatively expensive food is pretty but lackluster  i'm still sitting here as i type this and i'm less than overjoyed with the experience, sadly. the space and vibe are great but not quite familiar or intimate enough to beat out a place like genuine joe down the street. it seems like they bank on the vibe, and fall short the rest of the way. (this would be a great hangout for the artsy/design crowd having a collaborative meeting.)  the staff is great but the ipad ordering system limits your required interaction with them. they take pride in no wifi to increase interaction but then use ipads instead of people?  seating is ample, if cramped in a surprisingly large space.  but the food, kids. so pretty, but again lackluster. i tried the pop+art ($5) and the nutella waffle ($4.75) and they both sit on their respective tiny awkward plates half eaten. (yes the plate liners are cute) the waffle is a great idea but the waffle itself  has no flavor and there's no delight. the tart is similar - the pastry crust is much too thick compared to the smuckers jam tasting filling and it is essentially just pure sugar. the pastry itself doesn't even taste buttery or crisp. meh. there appears to be no soul in this confectionary.  coffee- passable. but at $4 for a cortado and a $1.50 up-charge for almond milk- i'll pick another place.  i get why the reviews are so good here, but there are much better places nearby for that \"cafe with a soul\" feel. this feels like an acl pop-up. going for that?  great, come here. pop+art and cortado emailed receipt and satisfaction survey. see all photos from kimberlee a. for the factory - cafe with a soul                    0.000525\n",
       " 10/25/2016 1 check-in check out this video for a review! youtube.com/watch?v=n8ki…  cool new place in austin! it's always great to see places doing something new and unique. the seating arrangements and atmosphere are definitely fun. one thing is that there's no internet, so don't plan on coming here to get stuff done!  you get to order on an ipad! yay.  pros: - the drink choices are really great. you can get something that you want. you can even get beer here. - great for pictures and enjoying some time off. sit on a swing ... while playing chase. - parking is plentiful in the plaza area. - friendly baristas  cons: - food menu isn't too big, but that's okay. not gluten free for the wife. - very pricey. if you need a place to come on a weekly basis, you're going to need to be a balla.                                                                                                                                                                                                                                                                                                                                                                                                                                                                                                                                                                                                                                                                                                                                                                                                                                                                                                                                                                                                                                                                                                             0.000525\n",
       " 11/2/2016 interesting new coffee place with a vibe that blends posh, hipster, and comfy.  medium roasted beans have a milder, sweeter flavor than your typical starbucks espresso shot, so be aware that the coffee tastes less bitter but packs more of a caffeine punch!  this place has homemade pop tarts!                                                                                                                                                                                                                                                                                                                                                                                                                                                                                                                                                                                                                                                                                                                                                                                                                                                                                                                                                                                                                                                                                                                                                                                                                                                                                                                                                                                                                                                                                                                                                                                                                          0.000525\n",
       " 10/13/2016 1 check-in i really enjoyed my visit here. i ordered the cortado and chicken waffle. both were excellent.  the space is very instagram worthy.  awesome mural. staff was very friendly too and i loved the ipad ordering system. chicken waffle and cortado paired with sparkling water to cleanse the palate                                                                                                                                                                                                                                                                                                                                                                                                                                                                                                                                                                                                                                                                                                                                                                                                                                                                                                                                                                                                                                                                                                                                                                                                                                                                                                                                                                                                                                                                                                                                                                                                                0.000525\n",
       " 12/2/2016 okay, so after visiting my friends in la and trying a mint mojito iced coffee, i had to find one in austin that's comparable. it was getting very difficult to find one to begin with, let alone a good one. i saw the mint coffee on the factory's website and had to try it. unfortunately i was shell-shocked at the price tag ($7 if i remember correctly??)  i figured it would be a large drink and particularly fabulous and hopefully large to make up for the over the top price (this is $3 more than philz)   was it particularly fabulous? no. it was good, it wasn't as good as philz. was it bigger?? no. it was about 4 ounces of  coffee, tops. will i be back? absolutely not, especially considering i can get a 20 oz mint mojito coffee from tea haus for $3 less that tastes just as good.  this place is also self service (for ordering and pick up), why that would lead to inflated prices and not a price decrease is far beyond my understanding. i don't recommend it.                                                                                                                                                                                                                                                                                                                                                                                                                                                                                                                                                                                                                                                                                                                                                                                                                                                                                                                            0.000525\n",
       " 10/15/2016 this place is really nice. they have done a great job... it's the type of place that you could spend hours in. they have a small menu right now, but their drinks, waffles, and pastries are really well made. we'll definitely be coming back soon.... like tomorrow. viva matcha latte and pop-art                                                                                                                                                                                                                                                                                                                                                                                                                                                                                                                                                                                                                                                                                                                                                                                                                                                                                                                                                                                                                                                                                                                                                                                                                                                                                                                                                                                                                                                                                                                                                                                                                         0.000525\n",
       " 12/1/2016 so much aesthetic in this place. i love every corner of this coffee shop. the only downside is there's no wifi. their matcha latte is to die for! see all photos from rojean s. for the factory - cafe with a soul                                                                                                                                                                                                                                                                                                                                                                                                                                                                                                                                                                                                                                                                                                                                                                                                                                                                                                                                                                                                                                                                                                                                                                                                                                                                                                                                                                                                                                                                                                                                                                                                                                                                                                            0.000525\n",
       " 10/10/2016 this place is so cute. new favorite coffee spot on burnet/in northcross. almost wish i was still in grad school,  so i would have an excuse to be there everyday.  amazing coffee and best chicken & waffles ever! the chicken was seasoned perfectly and made for a delicious savory brunch (with the house made slaw they give you on the side). the olive oil cake was also awesome, light and sweet. perfect coffee companion. my husband and i will definitely be back, as we loved everything and felt it was all very reasonable priced. olive oil cake, chicken & waffle and 15-minutes-of-fame coffee! so good.                                                                                                                                                                                                                                                                                                                                                                                                                                                                                                                                                                                                                                                                                                                                                                                                                                                                                                                                                                                                                                                                                                                                                                                                                                                                                                     0.000525\n",
       " 10/19/2016 the matcha lattes are amazing! great atmosphere, great food and drink, and everything is plated beautifully. the kind of place where you can tell the employees take pride in their work. i'll definitely be back often.                                                                                                                                                                                                                                                                                                                                                                                                                                                                                                                                                                                                                                                                                                                                                                                                                                                                                                                                                                                                                                                                                                                                                                                                                                                                                                                                                                                                                                                                                                                                                                                                                                                                                                     0.000525\n",
       " 10/28/2016 amazing atmosphere! i walked around for 5 minutes looking at everything before even ordering.  most unique take on chicken and waffles i've ever had. hands down best night time hangout in north austin. p.s.... their matcha latte is to die for!                                                                                                                                                                                                                                                                                                                                                                                                                                                                                                                                                                                                                                                                                                                                                                                                                                                                                                                                                                                                                                                                                                                                                                                                                                                                                                                                                                                                                                                                                                                                                                                                                                                                          0.000525\n",
       " 10/7/2016 1 check-in marymint monroe  + chicken and waffles samich = my favorite cafe in austin.  ... ohhh and decor is pretty sweet too                                                                                                                                                                                                                                                                                                                                                                                                                                                                                                                                                                                                                                                                                                                                                                                                                                                                                                                                                                                                                                                                                                                                                                                                                                                                                                                                                                                                                                                                                                                                                                                                                                                                                                                                                                                                0.000525\n",
       " 11/20/2016 the store has a+ decoration, but honestly, the coffee it made is not as good as other coffee shop in the surrounding area. it has no wifi, so good for hang out with friend or read a book. not sure why there is no restroom here. ordering app is well made, but probably won't be my coffee stop because of the quality of food/coffee. it's selling you the atmosphere they created, so don't expected the food/coffee. probably would be a good date spot. 8 dollar tiny chicken and waffle. one of the most expensive chicken and waffle.                                                                                                                                                                                                                                                                                                                                                                                                                                                                                                                                                                                                                                                                                                                                                                                                                                                                                                                                                                                                                                                                                                                                                                                                                                                                                                                                                                              0.000525\n",
       " 10/16/2016 my only complaint and desire and heart wish is for this place to be open longer and to allow for wifi. this place makes my heart happy, it motivates me to study because i want to come here, and it makes me wish i had time to settle and read a wonderful book. the atmosphere is perfect, the workers are generous and kind, it's a beautiful place to be.                                                                                                                                                                                                                                                                                                                                                                                                                                                                                                                                                                                                                                                                                                                                                                                                                                                                                                                                                                                                                                                                                                                                                                                                                                                                                                                                                                                                                                                                                                                                                               0.000525\n",
       " 11/11/2016 i never write yelp reviews, ever. but when i walked in here it felt like i was in a hipster alice in wonderland. the decor is spot on and they left no details out. the marymint monroe is really amazing and the chicken and waffle is really good. the staff is so wonderful too, you could tell they really love what they're doing. the swings are a nice touch too!                                                                                                                                                                                                                                                                                                                                                                                                                                                                                                                                                                                                                                                                                                                                                                                                                                                                                                                                                                                                                                                                                                                                                                                                                                                                                                                                                                                                                                                                                                                                                     0.000525\n",
       " 10/18/2016 i got waffle wasted at the factory!!! not your average coffee shop! super social without wifi, novel idea!                                                                                                                                                                                                                                                                                                                                                                                                                                                                                                                                                                                                                                                                                                                                                                                                                                                                                                                                                                                                                                                                                                                                                                                                                                                                                                                                                                                                                                                                                                                                                                                                                                                                                                                                                                                                                   0.000525\n",
       " 11/14/2016 enthusiastic and earnest desire to be excellent, try new things and develop new menu ideas, smiles, not in your face - best almond pound cake i've ever had (worth the 5 stars alone), and a fantastic cup of red rooibos iced tea.  next to hanabi.  fantastic new spot.                                                                                                                                                                                                                                                                                                                                                                                                                                                                                                                                                                                                                                                                                                                                                                                                                                                                                                                                                                                                                                                                                                                                                                                                                                                                                                                                                                                                                                                                                                                                                                                                                                                    0.000525\n",
       " 11/2/2016 2 check-ins love this place!  5 stars for cleanliness 5 stars for fun ambiance/ open space 5 stars for ample seating and comfort 5 stars for convenient parking 5 stars for attentive employees and fast service  i am definitely a fan cafe w/ a soul. i finally found a coffee shop i can study at without sacrificing comfort (starbucks' uncomfortable chairs). the coffee shop endorses social connection, hence, wifi  isn't available. it makes me really happy that a lot of students hang out here with their book bags and laptops and we can all just study in peace and somehow quiet (the background music can get pretty loud). unfortunately, there will always be that kid who's obnoxiously loud and would like the whole world to know her business. seriously, unless it's something intriguing or educational, no one cares. in addition, as much \"fun\" as this place looks, it's not child friendly. so parents, make sure your children do not hit the table in front of it and knock out the chess set. lastly, the sex images in the bathrooms are definitely not appropriate for children.  the ambiance is very much like austin-- very eccentric and hip! food and drink presentations are on par. drink prices are reasonable and similar to good ole starbucks. but unlike you're typical coffee shop, they have real food such as chicken and waffles.  my favorite about this place is the cleanliness. the employees do a good job maintaining the place. also, as i watch them make coffees, they do it with fines as if they're creating some type of art, it's pretty cool (in my opinion).  in conclusion, cafe w/ a soul is probably the best coffee shop i've ever been to. it's like studying in my own home but away from distractions. i'm awake! bathroom decor see all photos from jay t. for the factory - cafe with a soul                                                       0.000525\n",
       " 11/26/2016 1 check-in i love the deco a lot, it's a really good place to chill, it's modern, unique and appreciate the aesthetics, so i give that 5 stars, but the coffee was really disappointing. i ordered a coffee and it was a lot smaller than the picture on the menu and it was really expensive. it didn't taste good either. other than there being no outlets and expensive coffee, this place is great.                                                                                                                                                                                                                                                                                                                                                                                                                                                                                                                                                                                                                                                                                                                                                                                                                                                                                                                                                                                                                                                                                                                                                                                                                                                                                                                                                                                                                                                                                                                     0.000525\n",
       " 11/25/2016 very cool decor! good drinks nice seating  however...  just about everything is overpriced. $1.50 extra for 3 ounces of almond milk in a cortado. no wifi music is a bit loud and the mix is odd.  pleasant french oldies followed by loud techno. several tables were dirty when we got there. service is average.  it feels like a los angeles coffee shot that is out of place.                                                                                                                                                                                                                                                                                                                                                                                                                                                                                                                                                                                                                                                                                                                                                                                                                                                                                                                                                                                                                                                                                                                                                                                                                                                                                                                                                                                                                                                                                                                                           0.000525\n",
       "Name: full_review_text, dtype: float64"
      ]
     },
     "execution_count": 8,
     "metadata": {},
     "output_type": "execute_result"
    }
   ],
   "source": [
    "shops['full_review_text'].value_counts(normalize=True)[:50]"
   ]
  },
  {
   "cell_type": "code",
   "execution_count": 9,
   "metadata": {},
   "outputs": [],
   "source": [
    "shops['token'] = shops['full_review_text'].apply(tokenize)"
   ]
  },
  {
   "cell_type": "code",
   "execution_count": 10,
   "metadata": {},
   "outputs": [
    {
     "data": {
      "text/plain": [
       "0    [11252016, 1, checkin, love, love, loved, the,...\n",
       "1    [1222016, listed, in, date, night, austin, amb...\n",
       "2    [11302016, 1, checkin, listed, in, brunch, spo...\n",
       "3    [11252016, very, cool, decor, good, drinks, ni...\n",
       "4    [1232016, 1, checkin, they, are, located, with...\n",
       "Name: token, dtype: object"
      ]
     },
     "execution_count": 10,
     "metadata": {},
     "output_type": "execute_result"
    }
   ],
   "source": [
    "shops['token'].head()"
   ]
  },
  {
   "cell_type": "code",
   "execution_count": 11,
   "metadata": {},
   "outputs": [
    {
     "data": {
      "text/plain": [
       "[('the', 34809),\n",
       " ('and', 26650),\n",
       " ('a', 22755),\n",
       " ('i', 20237),\n",
       " ('to', 17164),\n",
       " ('of', 12600),\n",
       " ('is', 11999),\n",
       " ('coffee', 10353),\n",
       " ('was', 9707),\n",
       " ('in', 9546)]"
      ]
     },
     "execution_count": 11,
     "metadata": {},
     "output_type": "execute_result"
    }
   ],
   "source": [
    "#object from Base python\n",
    "from collections import Counter\n",
    "\n",
    "#object counter takes an iterable, but you can instaniate an empty one and update itl\n",
    "word_counts = Counter()\n",
    "\n",
    "#update it based on a split of each of our docs\n",
    "shops['token'].apply(lambda x: word_counts.update(x))\n",
    "\n",
    "#print most common words\n",
    "word_counts.most_common(10)"
   ]
  },
  {
   "cell_type": "code",
   "execution_count": 12,
   "metadata": {},
   "outputs": [],
   "source": [
    "def count(docs):\n",
    "\n",
    "        word_counts = Counter()\n",
    "        appears_in = Counter()\n",
    "        \n",
    "        total_docs = len(docs)\n",
    "\n",
    "        for doc in docs:\n",
    "            word_counts.update(doc)\n",
    "            appears_in.update(set(doc))\n",
    "\n",
    "        temp = zip(word_counts.keys(), word_counts.values())\n",
    "        \n",
    "        wc = pd.DataFrame(temp, columns = ['word', 'count'])\n",
    "\n",
    "        wc['rank'] = wc['count'].rank(method='first', ascending=False)\n",
    "        total = wc['count'].sum()\n",
    "\n",
    "        wc['pct_total'] = wc['count'].apply(lambda x: x / total)\n",
    "        \n",
    "        wc = wc.sort_values(by='rank')\n",
    "        wc['cul_pct_total'] = wc['pct_total'].cumsum()\n",
    "\n",
    "        t2 = zip(appears_in.keys(), appears_in.values())\n",
    "        ac = pd.DataFrame(t2, columns=['word', 'appears_in'])\n",
    "        wc = ac.merge(wc, on='word')\n",
    "\n",
    "        wc['appears_in_pct'] = wc['appears_in'].apply(lambda x: x / total_docs)\n",
    "        \n",
    "        return wc.sort_values(by='rank')"
   ]
  },
  {
   "cell_type": "code",
   "execution_count": 13,
   "metadata": {},
   "outputs": [],
   "source": [
    "wc = count(shops['token'])"
   ]
  },
  {
   "cell_type": "code",
   "execution_count": 14,
   "metadata": {},
   "outputs": [
    {
     "data": {
      "text/html": [
       "<div>\n",
       "<style scoped>\n",
       "    .dataframe tbody tr th:only-of-type {\n",
       "        vertical-align: middle;\n",
       "    }\n",
       "\n",
       "    .dataframe tbody tr th {\n",
       "        vertical-align: top;\n",
       "    }\n",
       "\n",
       "    .dataframe thead th {\n",
       "        text-align: right;\n",
       "    }\n",
       "</style>\n",
       "<table border=\"1\" class=\"dataframe\">\n",
       "  <thead>\n",
       "    <tr style=\"text-align: right;\">\n",
       "      <th></th>\n",
       "      <th>word</th>\n",
       "      <th>appears_in</th>\n",
       "      <th>count</th>\n",
       "      <th>rank</th>\n",
       "      <th>pct_total</th>\n",
       "      <th>cul_pct_total</th>\n",
       "      <th>appears_in_pct</th>\n",
       "    </tr>\n",
       "  </thead>\n",
       "  <tbody>\n",
       "    <tr>\n",
       "      <th>60</th>\n",
       "      <td>the</td>\n",
       "      <td>6847</td>\n",
       "      <td>34809</td>\n",
       "      <td>1.0</td>\n",
       "      <td>0.044537</td>\n",
       "      <td>0.044537</td>\n",
       "      <td>0.899028</td>\n",
       "    </tr>\n",
       "    <tr>\n",
       "      <th>25</th>\n",
       "      <td>and</td>\n",
       "      <td>6864</td>\n",
       "      <td>26650</td>\n",
       "      <td>2.0</td>\n",
       "      <td>0.034098</td>\n",
       "      <td>0.078634</td>\n",
       "      <td>0.901261</td>\n",
       "    </tr>\n",
       "    <tr>\n",
       "      <th>73</th>\n",
       "      <td>a</td>\n",
       "      <td>6246</td>\n",
       "      <td>22755</td>\n",
       "      <td>3.0</td>\n",
       "      <td>0.029114</td>\n",
       "      <td>0.107748</td>\n",
       "      <td>0.820116</td>\n",
       "    </tr>\n",
       "    <tr>\n",
       "      <th>39</th>\n",
       "      <td>i</td>\n",
       "      <td>5528</td>\n",
       "      <td>20237</td>\n",
       "      <td>4.0</td>\n",
       "      <td>0.025892</td>\n",
       "      <td>0.133641</td>\n",
       "      <td>0.725840</td>\n",
       "    </tr>\n",
       "    <tr>\n",
       "      <th>62</th>\n",
       "      <td>to</td>\n",
       "      <td>5653</td>\n",
       "      <td>17164</td>\n",
       "      <td>5.0</td>\n",
       "      <td>0.021961</td>\n",
       "      <td>0.155601</td>\n",
       "      <td>0.742253</td>\n",
       "    </tr>\n",
       "  </tbody>\n",
       "</table>\n",
       "</div>"
      ],
      "text/plain": [
       "   word  appears_in  count  rank  pct_total  cul_pct_total  appears_in_pct\n",
       "60  the        6847  34809   1.0   0.044537       0.044537        0.899028\n",
       "25  and        6864  26650   2.0   0.034098       0.078634        0.901261\n",
       "73    a        6246  22755   3.0   0.029114       0.107748        0.820116\n",
       "39    i        5528  20237   4.0   0.025892       0.133641        0.725840\n",
       "62   to        5653  17164   5.0   0.021961       0.155601        0.742253"
      ]
     },
     "execution_count": 14,
     "metadata": {},
     "output_type": "execute_result"
    }
   ],
   "source": [
    "wc.head()"
   ]
  },
  {
   "cell_type": "code",
   "execution_count": null,
   "metadata": {},
   "outputs": [],
   "source": []
  },
  {
   "cell_type": "markdown",
   "metadata": {},
   "source": [
    "## Can visualize the words with the greatest difference in counts between 'good' & 'bad'?\n",
    "\n",
    "Couple Notes: \n",
    "- Rel. freq. instead of absolute counts b/c of different numbers of reviews\n",
    "- Only look at the top 5-10 words with the greatest differences\n"
   ]
  },
  {
   "cell_type": "code",
   "execution_count": 15,
   "metadata": {},
   "outputs": [
    {
     "data": {
      "image/png": "[encoded data removed]",
      "text/plain": [
       "<Figure size 432x288 with 1 Axes>"
      ]
     },
     "metadata": {
      "needs_background": "light"
     },
     "output_type": "display_data"
    }
   ],
   "source": [
    "import seaborn as sns\n",
    "\n",
    "#cumulative dist plot\n",
    "sns.lineplot(x='rank', y='cul_pct_total', data = wc);"
   ]
  },
  {
   "cell_type": "code",
   "execution_count": 16,
   "metadata": {},
   "outputs": [
    {
     "data": {
      "image/png": "[encoded data removed]",
      "text/plain": [
       "<Figure size 432x288 with 1 Axes>"
      ]
     },
     "metadata": {
      "needs_background": "light"
     },
     "output_type": "display_data"
    }
   ],
   "source": [
    "import squarify\n",
    "import matplotlib.pyplot as plt\n",
    "wc_top20 = wc[wc['rank'] <= 20]\n",
    "\n",
    "squarify.plot(sizes=wc_top20['pct_total'], label = wc_top20['word'], alpha=.8)\n",
    "plt.axis('off')\n",
    "plt.show()"
   ]
  },
  {
   "cell_type": "code",
   "execution_count": 17,
   "metadata": {},
   "outputs": [],
   "source": [
    "import spacy\n",
    "from spacy.tokenizer import Tokenizer\n",
    "\n",
    "nlp=spacy.load('en_core_web_lg')\n",
    "\n",
    "#tokenizer\n",
    "tokenizer = Tokenizer(nlp.vocab)"
   ]
  },
  {
   "cell_type": "code",
   "execution_count": 18,
   "metadata": {},
   "outputs": [
    {
     "data": {
      "text/plain": [
       "0    [11252016, 1, checkin, love, love, loved, the,...\n",
       "1    [1222016, listed, in, date, night, austin, amb...\n",
       "2    [11302016, 1, checkin, listed, in, brunch, spo...\n",
       "3    [11252016, very, cool, decor, good, drinks, ni...\n",
       "4    [1232016, 1, checkin, they, are, located, with...\n",
       "Name: token, dtype: object"
      ]
     },
     "execution_count": 18,
     "metadata": {},
     "output_type": "execute_result"
    }
   ],
   "source": [
    "shops['token'].head(5)"
   ]
  },
  {
   "cell_type": "code",
   "execution_count": 19,
   "metadata": {},
   "outputs": [],
   "source": [
    "# Tokenizer Pipe\n",
    "\n",
    "tokens = []\n",
    "\n",
    "\"\"\" Make them tokens \"\"\"\n",
    "for doc in tokenizer.pipe(shops['full_review_text'], batch_size=500):\n",
    "    doc_tokens = [token.text for token in doc]\n",
    "    tokens.append(doc_tokens)\n",
    "\n",
    "shops['tokens'] = tokens"
   ]
  },
  {
   "cell_type": "code",
   "execution_count": 20,
   "metadata": {},
   "outputs": [],
   "source": [
    "wc = count(shops['tokens'])"
   ]
  },
  {
   "cell_type": "code",
   "execution_count": 21,
   "metadata": {},
   "outputs": [
    {
     "data": {
      "text/html": [
       "<div>\n",
       "<style scoped>\n",
       "    .dataframe tbody tr th:only-of-type {\n",
       "        vertical-align: middle;\n",
       "    }\n",
       "\n",
       "    .dataframe tbody tr th {\n",
       "        vertical-align: top;\n",
       "    }\n",
       "\n",
       "    .dataframe thead th {\n",
       "        text-align: right;\n",
       "    }\n",
       "</style>\n",
       "<table border=\"1\" class=\"dataframe\">\n",
       "  <thead>\n",
       "    <tr style=\"text-align: right;\">\n",
       "      <th></th>\n",
       "      <th>word</th>\n",
       "      <th>appears_in</th>\n",
       "      <th>count</th>\n",
       "      <th>rank</th>\n",
       "      <th>pct_total</th>\n",
       "      <th>cul_pct_total</th>\n",
       "      <th>appears_in_pct</th>\n",
       "    </tr>\n",
       "  </thead>\n",
       "  <tbody>\n",
       "    <tr>\n",
       "      <th>61</th>\n",
       "      <td>the</td>\n",
       "      <td>6847</td>\n",
       "      <td>34649</td>\n",
       "      <td>1.0</td>\n",
       "      <td>0.042825</td>\n",
       "      <td>0.042825</td>\n",
       "      <td>0.899028</td>\n",
       "    </tr>\n",
       "    <tr>\n",
       "      <th>30</th>\n",
       "      <td>and</td>\n",
       "      <td>6853</td>\n",
       "      <td>26442</td>\n",
       "      <td>2.0</td>\n",
       "      <td>0.032681</td>\n",
       "      <td>0.075506</td>\n",
       "      <td>0.899816</td>\n",
       "    </tr>\n",
       "    <tr>\n",
       "      <th>75</th>\n",
       "      <td>a</td>\n",
       "      <td>6240</td>\n",
       "      <td>22657</td>\n",
       "      <td>3.0</td>\n",
       "      <td>0.028003</td>\n",
       "      <td>0.103509</td>\n",
       "      <td>0.819328</td>\n",
       "    </tr>\n",
       "    <tr>\n",
       "      <th>14</th>\n",
       "      <td></td>\n",
       "      <td>7616</td>\n",
       "      <td>22606</td>\n",
       "      <td>4.0</td>\n",
       "      <td>0.027940</td>\n",
       "      <td>0.131449</td>\n",
       "      <td>1.000000</td>\n",
       "    </tr>\n",
       "    <tr>\n",
       "      <th>44</th>\n",
       "      <td>i</td>\n",
       "      <td>5511</td>\n",
       "      <td>19990</td>\n",
       "      <td>5.0</td>\n",
       "      <td>0.024707</td>\n",
       "      <td>0.156156</td>\n",
       "      <td>0.723608</td>\n",
       "    </tr>\n",
       "  </tbody>\n",
       "</table>\n",
       "</div>"
      ],
      "text/plain": [
       "   word  appears_in  count  rank  pct_total  cul_pct_total  appears_in_pct\n",
       "61  the        6847  34649   1.0   0.042825       0.042825        0.899028\n",
       "30  and        6853  26442   2.0   0.032681       0.075506        0.899816\n",
       "75    a        6240  22657   3.0   0.028003       0.103509        0.819328\n",
       "14             7616  22606   4.0   0.027940       0.131449        1.000000\n",
       "44    i        5511  19990   5.0   0.024707       0.156156        0.723608"
      ]
     },
     "execution_count": 21,
     "metadata": {},
     "output_type": "execute_result"
    }
   ],
   "source": [
    "wc.head()"
   ]
  },
  {
   "cell_type": "code",
   "execution_count": 22,
   "metadata": {},
   "outputs": [
    {
     "data": {
      "image/png": "[encoded data removed]",
      "text/plain": [
       "<Figure size 432x288 with 1 Axes>"
      ]
     },
     "metadata": {
      "needs_background": "light"
     },
     "output_type": "display_data"
    }
   ],
   "source": [
    "wc_top20 = wc[wc['rank'] <= 20]\n",
    "\n",
    "squarify.plot(sizes=wc_top20['pct_total'], label=wc_top20['word'], alpha=.8 )\n",
    "plt.axis('off')\n",
    "plt.show()"
   ]
  },
  {
   "cell_type": "code",
   "execution_count": 23,
   "metadata": {},
   "outputs": [],
   "source": [
    "tokens = []\n",
    "\n",
    "\"\"\" Update those tokens w/o stopwords\"\"\"\n",
    "for doc in tokenizer.pipe(shops['full_review_text'], batch_size=500):\n",
    "    \n",
    "    doc_tokens = []\n",
    "    \n",
    "    for token in doc:\n",
    "        if (token.is_stop == False) & (token.is_punct == False):\n",
    "            doc_tokens.append(token.text.lower())\n",
    "\n",
    "    tokens.append(doc_tokens)\n",
    "\n",
    "shops['tokens'] = tokens"
   ]
  },
  {
   "cell_type": "code",
   "execution_count": 24,
   "metadata": {},
   "outputs": [
    {
     "data": {
      "text/plain": [
       "0    [ , 11/25/2016, 1, check-in, love, love, loved...\n",
       "1    [ , 12/2/2016, listed, date, night:, austin,, ...\n",
       "2    [ , 11/30/2016, 1, check-in, listed, brunch, s...\n",
       "3    [ , 11/25/2016, cool, decor!, good, drinks, ni...\n",
       "4    [ , 12/3/2016, 1, check-in, located, northcros...\n",
       "Name: tokens, dtype: object"
      ]
     },
     "execution_count": 24,
     "metadata": {},
     "output_type": "execute_result"
    }
   ],
   "source": [
    "shops.tokens.head()"
   ]
  },
  {
   "cell_type": "code",
   "execution_count": 25,
   "metadata": {},
   "outputs": [
    {
     "data": {
      "image/png": "[encoded data removed]",
      "text/plain": [
       "<Figure size 432x288 with 1 Axes>"
      ]
     },
     "metadata": {
      "needs_background": "light"
     },
     "output_type": "display_data"
    }
   ],
   "source": [
    "wc = count(shops['tokens'])\n",
    "\n",
    "wc_top20 = wc[wc['rank'] <= 20]\n",
    "\n",
    "squarify.plot(sizes=wc_top20['pct_total'], label=wc_top20['word'], alpha=.8 )\n",
    "plt.axis('off')\n",
    "plt.show()"
   ]
  },
  {
   "cell_type": "code",
   "execution_count": 26,
   "metadata": {},
   "outputs": [],
   "source": [
    "STOP_WORDS = nlp.Defaults.stop_words.union(['I', 'coffee', '-'])"
   ]
  },
  {
   "cell_type": "code",
   "execution_count": 27,
   "metadata": {},
   "outputs": [],
   "source": [
    "tokens = []\n",
    "\n",
    "for doc in tokenizer.pipe(shops['full_review_text'], batch_size=500):\n",
    "    \n",
    "    doc_tokens = []\n",
    "    \n",
    "    for token in doc: \n",
    "        if token.text.lower() not in STOP_WORDS:\n",
    "            doc_tokens.append(token.text.lower())\n",
    "   \n",
    "    tokens.append(doc_tokens)\n",
    "    \n",
    "shops['tokens'] = tokens"
   ]
  },
  {
   "cell_type": "code",
   "execution_count": 28,
   "metadata": {},
   "outputs": [
    {
     "data": {
      "text/html": [
       "<div>\n",
       "<style scoped>\n",
       "    .dataframe tbody tr th:only-of-type {\n",
       "        vertical-align: middle;\n",
       "    }\n",
       "\n",
       "    .dataframe tbody tr th {\n",
       "        vertical-align: top;\n",
       "    }\n",
       "\n",
       "    .dataframe thead th {\n",
       "        text-align: right;\n",
       "    }\n",
       "</style>\n",
       "<table border=\"1\" class=\"dataframe\">\n",
       "  <thead>\n",
       "    <tr style=\"text-align: right;\">\n",
       "      <th></th>\n",
       "      <th>word</th>\n",
       "      <th>appears_in</th>\n",
       "      <th>count</th>\n",
       "      <th>rank</th>\n",
       "      <th>pct_total</th>\n",
       "      <th>cul_pct_total</th>\n",
       "      <th>appears_in_pct</th>\n",
       "    </tr>\n",
       "  </thead>\n",
       "  <tbody>\n",
       "    <tr>\n",
       "      <th>9</th>\n",
       "      <td></td>\n",
       "      <td>7616</td>\n",
       "      <td>22606</td>\n",
       "      <td>1.0</td>\n",
       "      <td>0.054382</td>\n",
       "      <td>0.054382</td>\n",
       "      <td>1.000000</td>\n",
       "    </tr>\n",
       "    <tr>\n",
       "      <th>148</th>\n",
       "      <td>place</td>\n",
       "      <td>3029</td>\n",
       "      <td>4264</td>\n",
       "      <td>2.0</td>\n",
       "      <td>0.010258</td>\n",
       "      <td>0.064640</td>\n",
       "      <td>0.397715</td>\n",
       "    </tr>\n",
       "    <tr>\n",
       "      <th>77</th>\n",
       "      <td>great</td>\n",
       "      <td>2438</td>\n",
       "      <td>3250</td>\n",
       "      <td>3.0</td>\n",
       "      <td>0.007818</td>\n",
       "      <td>0.072458</td>\n",
       "      <td>0.320116</td>\n",
       "    </tr>\n",
       "    <tr>\n",
       "      <th>253</th>\n",
       "      <td>it's</td>\n",
       "      <td>2061</td>\n",
       "      <td>3117</td>\n",
       "      <td>4.0</td>\n",
       "      <td>0.007498</td>\n",
       "      <td>0.079956</td>\n",
       "      <td>0.270614</td>\n",
       "    </tr>\n",
       "    <tr>\n",
       "      <th>175</th>\n",
       "      <td>like</td>\n",
       "      <td>2034</td>\n",
       "      <td>2902</td>\n",
       "      <td>5.0</td>\n",
       "      <td>0.006981</td>\n",
       "      <td>0.086937</td>\n",
       "      <td>0.267069</td>\n",
       "    </tr>\n",
       "  </tbody>\n",
       "</table>\n",
       "</div>"
      ],
      "text/plain": [
       "      word  appears_in  count  rank  pct_total  cul_pct_total  appears_in_pct\n",
       "9                 7616  22606   1.0   0.054382       0.054382        1.000000\n",
       "148  place        3029   4264   2.0   0.010258       0.064640        0.397715\n",
       "77   great        2438   3250   3.0   0.007818       0.072458        0.320116\n",
       "253   it's        2061   3117   4.0   0.007498       0.079956        0.270614\n",
       "175   like        2034   2902   5.0   0.006981       0.086937        0.267069"
      ]
     },
     "execution_count": 28,
     "metadata": {},
     "output_type": "execute_result"
    }
   ],
   "source": [
    "wc = count(shops['tokens'])\n",
    "wc.head()"
   ]
  },
  {
   "cell_type": "code",
   "execution_count": 29,
   "metadata": {},
   "outputs": [
    {
     "data": {
      "image/png": "[encoded data removed]",
      "text/plain": [
       "<Figure size 432x288 with 1 Axes>"
      ]
     },
     "metadata": {
      "needs_background": "light"
     },
     "output_type": "display_data"
    }
   ],
   "source": [
    "wc_top20 = wc[wc['rank'] <= 20]\n",
    "\n",
    "squarify.plot(sizes=wc_top20['pct_total'], label=wc_top20['word'], alpha=.8 )\n",
    "plt.axis('off')\n",
    "plt.show()"
   ]
  },
  {
   "cell_type": "markdown",
   "metadata": {
    "colab_type": "text",
    "id": "1dCb1q8XphcP",
    "toc-hr-collapsed": true
   },
   "source": [
    "## Stretch Goals\n",
    "\n",
    "* Analyze another corpus of documents - such as Indeed.com job listings ;).\n",
    "* Play with the Spacy API to\n",
    " - Extract Named Entities\n",
    " - Extracting 'noun chunks'\n",
    " - Attempt Document Classification with just Spacy\n",
    " - *Note:* This [course](https://course.spacy.io/) will be of interesting in helping you with these stretch goals. \n",
    "* Try to build a plotly dash app with your text data \n",
    "\n"
   ]
  },
  {
   "cell_type": "code",
   "execution_count": null,
   "metadata": {},
   "outputs": [],
   "source": []
  }
 ],
 "metadata": {
  "colab": {
   "collapsed_sections": [],
   "name": "LS_DS_421_Text_Data_Assignment.ipynb",
   "provenance": [],
   "version": "0.3.2"
  },
  "kernelspec": {
   "display_name": "U4-S1-NLP (Python3)",
   "language": "python",
   "name": "u4-s1-nlp"
  },
  "language_info": {
   "codemirror_mode": {
    "name": "ipython",
    "version": 3
   },
   "file_extension": ".py",
   "mimetype": "text/x-python",
   "name": "python",
   "nbconvert_exporter": "python",
   "pygments_lexer": "ipython3",
   "version": "3.7.0"
  },
  "toc-autonumbering": false
 },
 "nbformat": 4,
 "nbformat_minor": 4
}
